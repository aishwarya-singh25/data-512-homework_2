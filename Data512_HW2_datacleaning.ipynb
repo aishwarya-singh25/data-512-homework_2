{
 "cells": [
  {
   "cell_type": "markdown",
   "id": "34633913",
   "metadata": {},
   "source": [
    "# Loading data"
   ]
  },
  {
   "cell_type": "code",
   "execution_count": 127,
   "id": "d986ea38",
   "metadata": {},
   "outputs": [],
   "source": [
    "# Importing Required Libraries\n",
    "import pandas as pd\n",
    "import numpy as np\n",
    "import matplotlib.pyplot as plt\n",
    "from datetime import datetime\n",
    "\n",
    "import json, time, urllib.parse\n",
    "import requests"
   ]
  },
  {
   "cell_type": "code",
   "execution_count": 128,
   "id": "96548741",
   "metadata": {},
   "outputs": [
    {
     "data": {
      "text/plain": [
       "((7584, 3), (233, 2))"
      ]
     },
     "execution_count": 128,
     "metadata": {},
     "output_type": "execute_result"
    }
   ],
   "source": [
    "# load the data files\n",
    "df_politician = pd.read_csv(\"politicians_by_country_SEPT.2022.csv\")\n",
    "df_population = pd.read_csv(\"population_by_country_2022.csv\")\n",
    "\n",
    "df_politician.shape, df_population.shape"
   ]
  },
  {
   "cell_type": "markdown",
   "id": "59e2aa29",
   "metadata": {},
   "source": [
    "# 1. Performing Basic Data Validation\n",
    "This section is checking the overall format of the dataframe, number of unique values , missing values and datatype."
   ]
  },
  {
   "cell_type": "markdown",
   "id": "b9043013",
   "metadata": {},
   "source": [
    "### 1.1 Politician Dataset"
   ]
  },
  {
   "cell_type": "code",
   "execution_count": 129,
   "id": "018137a2",
   "metadata": {},
   "outputs": [
    {
     "data": {
      "text/html": [
       "<div>\n",
       "<style scoped>\n",
       "    .dataframe tbody tr th:only-of-type {\n",
       "        vertical-align: middle;\n",
       "    }\n",
       "\n",
       "    .dataframe tbody tr th {\n",
       "        vertical-align: top;\n",
       "    }\n",
       "\n",
       "    .dataframe thead th {\n",
       "        text-align: right;\n",
       "    }\n",
       "</style>\n",
       "<table border=\"1\" class=\"dataframe\">\n",
       "  <thead>\n",
       "    <tr style=\"text-align: right;\">\n",
       "      <th></th>\n",
       "      <th>name</th>\n",
       "      <th>url</th>\n",
       "      <th>country</th>\n",
       "    </tr>\n",
       "  </thead>\n",
       "  <tbody>\n",
       "    <tr>\n",
       "      <th>0</th>\n",
       "      <td>Shahjahan Noori</td>\n",
       "      <td>https://en.wikipedia.org/wiki/Shahjahan_Noori</td>\n",
       "      <td>Afghanistan</td>\n",
       "    </tr>\n",
       "    <tr>\n",
       "      <th>1</th>\n",
       "      <td>Abdul Ghafar Lakanwal</td>\n",
       "      <td>https://en.wikipedia.org/wiki/Abdul_Ghafar_Lak...</td>\n",
       "      <td>Afghanistan</td>\n",
       "    </tr>\n",
       "    <tr>\n",
       "      <th>2</th>\n",
       "      <td>Majah Ha Adrif</td>\n",
       "      <td>https://en.wikipedia.org/wiki/Majah_Ha_Adrif</td>\n",
       "      <td>Afghanistan</td>\n",
       "    </tr>\n",
       "    <tr>\n",
       "      <th>3</th>\n",
       "      <td>Haroon al-Afghani</td>\n",
       "      <td>https://en.wikipedia.org/wiki/Haroon_al-Afghani</td>\n",
       "      <td>Afghanistan</td>\n",
       "    </tr>\n",
       "    <tr>\n",
       "      <th>4</th>\n",
       "      <td>Tayyab Agha</td>\n",
       "      <td>https://en.wikipedia.org/wiki/Tayyab_Agha</td>\n",
       "      <td>Afghanistan</td>\n",
       "    </tr>\n",
       "  </tbody>\n",
       "</table>\n",
       "</div>"
      ],
      "text/plain": [
       "                    name                                                url  \\\n",
       "0        Shahjahan Noori      https://en.wikipedia.org/wiki/Shahjahan_Noori   \n",
       "1  Abdul Ghafar Lakanwal  https://en.wikipedia.org/wiki/Abdul_Ghafar_Lak...   \n",
       "2         Majah Ha Adrif       https://en.wikipedia.org/wiki/Majah_Ha_Adrif   \n",
       "3      Haroon al-Afghani    https://en.wikipedia.org/wiki/Haroon_al-Afghani   \n",
       "4            Tayyab Agha          https://en.wikipedia.org/wiki/Tayyab_Agha   \n",
       "\n",
       "       country  \n",
       "0  Afghanistan  \n",
       "1  Afghanistan  \n",
       "2  Afghanistan  \n",
       "3  Afghanistan  \n",
       "4  Afghanistan  "
      ]
     },
     "execution_count": 129,
     "metadata": {},
     "output_type": "execute_result"
    }
   ],
   "source": [
    "# printing first few rows\n",
    "df_politician.head()"
   ]
  },
  {
   "cell_type": "code",
   "execution_count": 130,
   "id": "46881d53",
   "metadata": {},
   "outputs": [
    {
     "data": {
      "text/html": [
       "<div>\n",
       "<style scoped>\n",
       "    .dataframe tbody tr th:only-of-type {\n",
       "        vertical-align: middle;\n",
       "    }\n",
       "\n",
       "    .dataframe tbody tr th {\n",
       "        vertical-align: top;\n",
       "    }\n",
       "\n",
       "    .dataframe thead th {\n",
       "        text-align: right;\n",
       "    }\n",
       "</style>\n",
       "<table border=\"1\" class=\"dataframe\">\n",
       "  <thead>\n",
       "    <tr style=\"text-align: right;\">\n",
       "      <th></th>\n",
       "      <th>col_name</th>\n",
       "      <th>null_vals</th>\n",
       "      <th>dtypes</th>\n",
       "      <th>nuniques</th>\n",
       "    </tr>\n",
       "  </thead>\n",
       "  <tbody>\n",
       "    <tr>\n",
       "      <th>name</th>\n",
       "      <td>name</td>\n",
       "      <td>0</td>\n",
       "      <td>object</td>\n",
       "      <td>7534</td>\n",
       "    </tr>\n",
       "    <tr>\n",
       "      <th>url</th>\n",
       "      <td>url</td>\n",
       "      <td>0</td>\n",
       "      <td>object</td>\n",
       "      <td>7534</td>\n",
       "    </tr>\n",
       "    <tr>\n",
       "      <th>country</th>\n",
       "      <td>country</td>\n",
       "      <td>0</td>\n",
       "      <td>object</td>\n",
       "      <td>185</td>\n",
       "    </tr>\n",
       "  </tbody>\n",
       "</table>\n",
       "</div>"
      ],
      "text/plain": [
       "        col_name  null_vals  dtypes  nuniques\n",
       "name        name          0  object      7534\n",
       "url          url          0  object      7534\n",
       "country  country          0  object       185"
      ]
     },
     "execution_count": 130,
     "metadata": {},
     "output_type": "execute_result"
    }
   ],
   "source": [
    "# checking basic metrics about the dataframe\n",
    "pd.DataFrame({'col_name': df_politician.columns,\n",
    "              'null_vals': df_politician.isnull().sum(),\n",
    "             'dtypes': df_politician.dtypes,\n",
    "             'nuniques': df_politician.nunique()})"
   ]
  },
  {
   "cell_type": "markdown",
   "id": "bad061bb",
   "metadata": {},
   "source": [
    "### 1.2 Dealing with duplicates in Politics Dataset"
   ]
  },
  {
   "cell_type": "code",
   "execution_count": 131,
   "id": "a341ad24",
   "metadata": {},
   "outputs": [
    {
     "data": {
      "text/plain": [
       "(7582, 3)"
      ]
     },
     "execution_count": 131,
     "metadata": {},
     "output_type": "execute_result"
    }
   ],
   "source": [
    "# looking at duplicated rows\n",
    "df_politician.drop_duplicates(subset=['name', 'url', 'country'], inplace = True)\n",
    "df_politician.shape"
   ]
  },
  {
   "cell_type": "markdown",
   "id": "368b6bdd",
   "metadata": {},
   "source": [
    "**Comments:**\n",
    "- There are still some duplicates with name and url but different country. \n",
    "- Cannot delete these rows without more information"
   ]
  },
  {
   "cell_type": "markdown",
   "id": "e51b15b1",
   "metadata": {},
   "source": [
    "### 1.3 Population Dataset"
   ]
  },
  {
   "cell_type": "code",
   "execution_count": 133,
   "id": "cf400128",
   "metadata": {},
   "outputs": [
    {
     "data": {
      "text/html": [
       "<div>\n",
       "<style scoped>\n",
       "    .dataframe tbody tr th:only-of-type {\n",
       "        vertical-align: middle;\n",
       "    }\n",
       "\n",
       "    .dataframe tbody tr th {\n",
       "        vertical-align: top;\n",
       "    }\n",
       "\n",
       "    .dataframe thead th {\n",
       "        text-align: right;\n",
       "    }\n",
       "</style>\n",
       "<table border=\"1\" class=\"dataframe\">\n",
       "  <thead>\n",
       "    <tr style=\"text-align: right;\">\n",
       "      <th></th>\n",
       "      <th>Geography</th>\n",
       "      <th>Population (millions)</th>\n",
       "      <th>region</th>\n",
       "    </tr>\n",
       "  </thead>\n",
       "  <tbody>\n",
       "    <tr>\n",
       "      <th>1</th>\n",
       "      <td>Algeria</td>\n",
       "      <td>44.9</td>\n",
       "      <td>NORTHERN AFRICA</td>\n",
       "    </tr>\n",
       "    <tr>\n",
       "      <th>2</th>\n",
       "      <td>Egypt</td>\n",
       "      <td>103.5</td>\n",
       "      <td>NORTHERN AFRICA</td>\n",
       "    </tr>\n",
       "    <tr>\n",
       "      <th>3</th>\n",
       "      <td>Libya</td>\n",
       "      <td>6.8</td>\n",
       "      <td>NORTHERN AFRICA</td>\n",
       "    </tr>\n",
       "    <tr>\n",
       "      <th>4</th>\n",
       "      <td>Morocco</td>\n",
       "      <td>36.7</td>\n",
       "      <td>NORTHERN AFRICA</td>\n",
       "    </tr>\n",
       "    <tr>\n",
       "      <th>5</th>\n",
       "      <td>Sudan</td>\n",
       "      <td>46.9</td>\n",
       "      <td>NORTHERN AFRICA</td>\n",
       "    </tr>\n",
       "  </tbody>\n",
       "</table>\n",
       "</div>"
      ],
      "text/plain": [
       "  Geography  Population (millions)           region\n",
       "1   Algeria                   44.9  NORTHERN AFRICA\n",
       "2     Egypt                  103.5  NORTHERN AFRICA\n",
       "3     Libya                    6.8  NORTHERN AFRICA\n",
       "4   Morocco                   36.7  NORTHERN AFRICA\n",
       "5     Sudan                   46.9  NORTHERN AFRICA"
      ]
     },
     "execution_count": 133,
     "metadata": {},
     "output_type": "execute_result"
    }
   ],
   "source": [
    "# Fixing the regions and countries\n",
    "df_population['shifted'] = df_population['Geography'].shift(-1)\n",
    "df_population = df_population[~((df_population['Geography'].str.isupper() == True) & (df_population['shifted'].str.isupper() == True))].iloc[:,0:2].reset_index().drop('index', axis = 1)\n",
    "\n",
    "# Finding the capitalised strings\n",
    "regions = pd.DataFrame()\n",
    "regions['region'] = df_population[df_population['Geography'].str.isupper()]['Geography']\n",
    "regions['flag'] = np.arange(1, len(regions['region']) + 1)\n",
    "\n",
    "# Merging capitalised strings and existing countries\n",
    "df = df_population.merge(regions, left_on = \"Geography\", right_on = \"region\", how = 'left').iloc[:,[0,1,3]]\n",
    "\n",
    "# fill in region to populate\n",
    "df['flag'] = df['flag'].expanding().max()\n",
    "df_population = df.merge(regions, on = \"flag\", how = 'inner')\n",
    "df_population = df_population.iloc[:,[0, 1, 3]]\n",
    "\n",
    "# keep countries in the geography column\n",
    "df_population = df_population[df_population['Geography'] != df_population['region']]\n",
    "df_population.head()"
   ]
  },
  {
   "cell_type": "markdown",
   "id": "62110dc8",
   "metadata": {},
   "source": [
    "# 2. Data Extraction"
   ]
  },
  {
   "cell_type": "markdown",
   "id": "cb9368a8",
   "metadata": {},
   "source": [
    "### 2.1 Setting the parameters for PAI page request\n",
    "In order to use the API to get information about the wikipedia pages, there are some basic paramters that need to be set. Setting the constants here - "
   ]
  },
  {
   "cell_type": "code",
   "execution_count": 134,
   "id": "e49ae1c7",
   "metadata": {},
   "outputs": [],
   "source": [
    "# English Wikipedia API endpoint\n",
    "API_ENWIKIPEDIA_ENDPOINT = \"https://en.wikipedia.org/w/api.php\"\n",
    "\n",
    "# Assuming roughly 2ms latency on the API and network\n",
    "API_LATENCY_ASSUMED = 0.002      \n",
    "API_THROTTLE_WAIT = (1.0/100.0) - API_LATENCY_ASSUMED\n",
    "\n",
    "# In case something goes wrong\n",
    "REQUEST_HEADERS = {'User-Agent': 'aish25@uw.edu, University of Washington, MSDS DATA 512 - AUTUMN 2022'}\n",
    "\n",
    "# Titles will be changed \n",
    "ARTICLE_TITLES = None\n",
    "\n",
    "# String of additional page properties that can be returned\n",
    "# PAGEINFO_EXTENDED_PROPERTIES = \"talkid|url|watched|watchers\"\n",
    "PAGEINFO_EXTENDED_PROPERTIES = \"\"\n",
    "\n",
    "# This template lists the basic parameters for making this\n",
    "PAGEINFO_PARAMS_TEMPLATE = {\n",
    "    \"action\": \"query\",\n",
    "    \"format\": \"json\",\n",
    "    \"titles\": \"\",           # to simplify this should be a single page title at a time\n",
    "    \"prop\": \"info\",\n",
    "    \"inprop\": PAGEINFO_EXTENDED_PROPERTIES\n",
    "}"
   ]
  },
  {
   "cell_type": "markdown",
   "id": "17ae3ce5",
   "metadata": {},
   "source": [
    "### 2.2 Defining function to make page info requests\n",
    "The parameters defined above will be used to make API requests. We need to make multiple requests and hence writing a function for the same. "
   ]
  },
  {
   "cell_type": "code",
   "execution_count": 135,
   "id": "bdd0a23a",
   "metadata": {},
   "outputs": [],
   "source": [
    "# defining function to make multiple requests\n",
    "def request_pageinfo_per_article(article_title = None, \n",
    "                                 endpoint_url = API_ENWIKIPEDIA_ENDPOINT, \n",
    "                                 request_template = PAGEINFO_PARAMS_TEMPLATE,\n",
    "                                 headers = REQUEST_HEADERS):\n",
    "    # Make sure we have an article title\n",
    "    if not article_title: return None\n",
    "    \n",
    "    request_template['titles'] = article_title\n",
    "        \n",
    "    # make the request\n",
    "    try:\n",
    "        if API_THROTTLE_WAIT > 0.0:\n",
    "            time.sleep(API_THROTTLE_WAIT)\n",
    "        response = requests.get(endpoint_url, headers=headers, params=request_template)\n",
    "        json_response = response.json()\n",
    "    except Exception as e:\n",
    "        print(e)\n",
    "        json_response = None\n",
    "    return json_response"
   ]
  },
  {
   "cell_type": "markdown",
   "id": "f0254888",
   "metadata": {},
   "source": [
    "### 2.3 Getting the page info\n",
    "Using the defined paramters and function, generating a dataframe containing the page information. "
   ]
  },
  {
   "cell_type": "code",
   "execution_count": 67,
   "id": "d26b46a6",
   "metadata": {},
   "outputs": [],
   "source": [
    "ARTICLE_TITLES = list(df_politician['name'].unique())"
   ]
  },
  {
   "cell_type": "code",
   "execution_count": 69,
   "id": "6fc725b0",
   "metadata": {},
   "outputs": [
    {
     "name": "stdout",
     "output_type": "stream",
     "text": [
      "('Connection aborted.', ConnectionResetError(54, 'Connection reset by peer'))\n",
      "Couldn't get the page info for:  Jiří Ventruba\n",
      "Couldn't get the page info for:  Prince Ofosu Sefah\n",
      "Couldn't get the page info for:  Harjit Kaur Talwandi\n",
      "Couldn't get the page info for:  Abd al-Razzaq al-Hasani\n",
      "Couldn't get the page info for:  Abiodun Abimbola Orekoya\n",
      "Couldn't get the page info for:  Segun “Aeroland” Adewale\n",
      "Couldn't get the page info for:  Roman Konoplev\n",
      "Couldn't get the page info for:  Nhlanhla “Lux” Dlamini\n"
     ]
    }
   ],
   "source": [
    "lastrevid_list = []\n",
    "available_lastrevid = []\n",
    "unavailable_lastrevid = []\n",
    "for i in range(0,len(ARTICLE_TITLES)):\n",
    "    try:\n",
    "        info = request_pageinfo_per_article(ARTICLE_TITLES[i])\n",
    "        lastrevid_list.append(info['query']['pages'][list(info['query']['pages'].keys())[0]]['lastrevid'])\n",
    "        available_lastrevid.append(ARTICLE_TITLES[i])\n",
    "    except:\n",
    "        unavailable_lastrevid.append(ARTICLE_TITLES[i])\n",
    "        print(\"Couldn't get the page info for: \", ARTICLE_TITLES[i])"
   ]
  },
  {
   "cell_type": "markdown",
   "id": "39967769",
   "metadata": {},
   "source": [
    "**Comments:**\n",
    "- Information for 8 article titles was not fetched.\n",
    "- Certain pages have quotes which are different from quotes in python."
   ]
  },
  {
   "cell_type": "code",
   "execution_count": 71,
   "id": "e2ecde55",
   "metadata": {},
   "outputs": [],
   "source": [
    "# saving into csv as intermediate file\n",
    "info_df = pd.DataFrame({\"name\": available_lastrevid, \n",
    "                        \"lastrevid\": lastrevid_list})\n",
    "info_df.to_csv('lastrevid.csv', index=False)"
   ]
  },
  {
   "cell_type": "markdown",
   "id": "317d9d52",
   "metadata": {},
   "source": [
    "### 2.4 Setting paramters for ORES request"
   ]
  },
  {
   "cell_type": "code",
   "execution_count": 72,
   "id": "fe5b6173",
   "metadata": {},
   "outputs": [],
   "source": [
    "# The current ORES API endpoint\n",
    "API_ORES_SCORE_ENDPOINT = \"https://ores.wikimedia.org/v3\"\n",
    "\n",
    "# A template for mapping to the URL\n",
    "API_ORES_SCORE_PARAMS = \"/scores/{context}/{revid}/{model}\"\n",
    "\n",
    "# Use some delays so that we do not hammer the API with our requests\n",
    "API_LATENCY_ASSUMED = 0.002 \n",
    "API_THROTTLE_WAIT = (1.0/100.0) - API_LATENCY_ASSUMED\n",
    "\n",
    "# in case of errors\n",
    "REQUEST_HEADERS = {\n",
    "    'User-Agent': 'aish25@uw.edu, University of Washington, MSDS DATA 512 - AUTUMN 2022'\n",
    "}\n",
    "\n",
    "# Dictionary of Wikipedia article titles (keys) and revision IDs \n",
    "ARTICLE_REVISIONS = None\n",
    "\n",
    "# Basic parameters for making an ORES request\n",
    "ORES_PARAMS_TEMPLATE = {\n",
    "    \"context\": \"enwiki\",        # which WMF project for the specified revid\n",
    "    \"revid\" : \"\",               # the revision to be scored - this will probably change each call\n",
    "    \"model\": \"articlequality\"   # the AI/ML scoring model to apply to the reviewion\n",
    "}"
   ]
  },
  {
   "cell_type": "markdown",
   "id": "6ca80494",
   "metadata": {},
   "source": [
    "### 2.5 Getting ORES Predictions"
   ]
  },
  {
   "cell_type": "code",
   "execution_count": 78,
   "id": "5877f4d9",
   "metadata": {},
   "outputs": [],
   "source": [
    "# function to get the ores scores\n",
    "def request_ores_score_per_article(article_revid = None, \n",
    "                                   endpoint_url = API_ORES_SCORE_ENDPOINT, \n",
    "                                   endpoint_params = API_ORES_SCORE_PARAMS, \n",
    "                                   request_template = ORES_PARAMS_TEMPLATE,\n",
    "                                   headers = REQUEST_HEADERS,\n",
    "                                   features=False):\n",
    "    \n",
    "    # Make sure we have an article revision id\n",
    "    if not article_revid: return None\n",
    "    \n",
    "    # set the revision id into the template\n",
    "    request_template['revid'] = article_revid\n",
    "    \n",
    "    # now, create a request URL by combining the endpoint_url with the parameters for the request\n",
    "    request_url = endpoint_url+endpoint_params.format(**request_template)\n",
    "    \n",
    "    # the features used by the ML model can sometimes be returned as well as scores\n",
    "    if features:\n",
    "        request_url = request_url+\"?features=true\"\n",
    "    \n",
    "    # make the request\n",
    "    try:\n",
    "        if API_THROTTLE_WAIT > 0.0:\n",
    "            time.sleep(API_THROTTLE_WAIT)\n",
    "        response = requests.get(request_url, headers=headers)\n",
    "        json_response = response.json()\n",
    "    except Exception as e:\n",
    "        print(e)\n",
    "        json_response = None\n",
    "    return json_response"
   ]
  },
  {
   "cell_type": "code",
   "execution_count": 81,
   "id": "eb485acb",
   "metadata": {},
   "outputs": [
    {
     "name": "stdout",
     "output_type": "stream",
     "text": [
      "('Connection aborted.', ConnectionResetError(54, 'Connection reset by peer'))\n",
      "Couldn't get the ores scores for:  1058539988\n"
     ]
    }
   ],
   "source": [
    "# setting empty lists to store information\n",
    "ores_pred = []\n",
    "unavailable_oresscore = []\n",
    "available_oresscore = []\n",
    "for i in range(0,len(info_df['lastrevid'])):\n",
    "    try:\n",
    "        response = request_ores_score_per_article(info_df['lastrevid'][i])\n",
    "        prediction = response['enwiki']['scores'][list(response['enwiki']['scores'].keys())[0]]['articlequality']['score']['prediction']\n",
    "        ores_pred.append(prediction)\n",
    "        available_oresscore.append(info_df['lastrevid'][i])\n",
    "    except:\n",
    "        unavailable_oresscore.append(info_df['lastrevid'][i])\n",
    "        print(\"Couldn't get the ores scores for: \", info_df['lastrevid'][i])"
   ]
  },
  {
   "cell_type": "code",
   "execution_count": 82,
   "id": "c006155a",
   "metadata": {},
   "outputs": [
    {
     "data": {
      "text/plain": [
       "7525"
      ]
     },
     "execution_count": 82,
     "metadata": {},
     "output_type": "execute_result"
    }
   ],
   "source": [
    "len(ores_pred)"
   ]
  },
  {
   "cell_type": "code",
   "execution_count": 84,
   "id": "3680d106",
   "metadata": {},
   "outputs": [],
   "source": [
    "# saving into csv as intermediate file\n",
    "preds_df = pd.DataFrame({\"lastrevid\": available_oresscore, \n",
    "                        \"ores_pred\": ores_pred})\n",
    "preds_df.to_csv('ores_preds.csv', index=False)"
   ]
  },
  {
   "cell_type": "markdown",
   "id": "9c92882f",
   "metadata": {},
   "source": [
    "# 3. Generating final dataset\n",
    "Combining the information collected and stores in  info_df and preds_df dataframes about the lastrevid and scores. Joining this information with the initial df_politician and df_population files. \n",
    "\n",
    "Finally identifying missing values and storing them separately. Saving the cleaned dataset with no missing values."
   ]
  },
  {
   "cell_type": "markdown",
   "id": "4b52e406",
   "metadata": {},
   "source": [
    "### 3.1 Merging data files"
   ]
  },
  {
   "cell_type": "code",
   "execution_count": 108,
   "id": "548d4e3a",
   "metadata": {
    "scrolled": true
   },
   "outputs": [
    {
     "data": {
      "text/plain": [
       "((7526, 2), (7525, 2))"
      ]
     },
     "execution_count": 108,
     "metadata": {},
     "output_type": "execute_result"
    }
   ],
   "source": [
    "info_df.shape, preds_df.shape"
   ]
  },
  {
   "cell_type": "code",
   "execution_count": 109,
   "id": "5675406b",
   "metadata": {},
   "outputs": [],
   "source": [
    "df_combined = info_df.merge(preds_df, on=['lastrevid'], how = 'left')"
   ]
  },
  {
   "cell_type": "code",
   "execution_count": 110,
   "id": "c4d952de",
   "metadata": {},
   "outputs": [
    {
     "data": {
      "text/html": [
       "<div>\n",
       "<style scoped>\n",
       "    .dataframe tbody tr th:only-of-type {\n",
       "        vertical-align: middle;\n",
       "    }\n",
       "\n",
       "    .dataframe tbody tr th {\n",
       "        vertical-align: top;\n",
       "    }\n",
       "\n",
       "    .dataframe thead th {\n",
       "        text-align: right;\n",
       "    }\n",
       "</style>\n",
       "<table border=\"1\" class=\"dataframe\">\n",
       "  <thead>\n",
       "    <tr style=\"text-align: right;\">\n",
       "      <th></th>\n",
       "      <th>name</th>\n",
       "      <th>country</th>\n",
       "      <th>lastrevid</th>\n",
       "      <th>ores_pred</th>\n",
       "    </tr>\n",
       "  </thead>\n",
       "  <tbody>\n",
       "    <tr>\n",
       "      <th>0</th>\n",
       "      <td>Shahjahan Noori</td>\n",
       "      <td>Afghanistan</td>\n",
       "      <td>1.099689e+09</td>\n",
       "      <td>GA</td>\n",
       "    </tr>\n",
       "    <tr>\n",
       "      <th>1</th>\n",
       "      <td>Abdul Ghafar Lakanwal</td>\n",
       "      <td>Afghanistan</td>\n",
       "      <td>9.435623e+08</td>\n",
       "      <td>Start</td>\n",
       "    </tr>\n",
       "    <tr>\n",
       "      <th>2</th>\n",
       "      <td>Majah Ha Adrif</td>\n",
       "      <td>Afghanistan</td>\n",
       "      <td>8.524041e+08</td>\n",
       "      <td>Start</td>\n",
       "    </tr>\n",
       "    <tr>\n",
       "      <th>3</th>\n",
       "      <td>Haroon al-Afghani</td>\n",
       "      <td>Afghanistan</td>\n",
       "      <td>1.095102e+09</td>\n",
       "      <td>B</td>\n",
       "    </tr>\n",
       "    <tr>\n",
       "      <th>4</th>\n",
       "      <td>Tayyab Agha</td>\n",
       "      <td>Afghanistan</td>\n",
       "      <td>1.104998e+09</td>\n",
       "      <td>Start</td>\n",
       "    </tr>\n",
       "  </tbody>\n",
       "</table>\n",
       "</div>"
      ],
      "text/plain": [
       "                    name      country     lastrevid ores_pred\n",
       "0        Shahjahan Noori  Afghanistan  1.099689e+09        GA\n",
       "1  Abdul Ghafar Lakanwal  Afghanistan  9.435623e+08     Start\n",
       "2         Majah Ha Adrif  Afghanistan  8.524041e+08     Start\n",
       "3      Haroon al-Afghani  Afghanistan  1.095102e+09         B\n",
       "4            Tayyab Agha  Afghanistan  1.104998e+09     Start"
      ]
     },
     "execution_count": 110,
     "metadata": {},
     "output_type": "execute_result"
    }
   ],
   "source": [
    "df_combined = df_politician[['name', 'country']].merge(df_combined, on = \"name\", how = 'left')\n",
    "df_combined.head()"
   ]
  },
  {
   "cell_type": "code",
   "execution_count": 111,
   "id": "47dc37e3",
   "metadata": {},
   "outputs": [
    {
     "name": "stdout",
     "output_type": "stream",
     "text": [
      "(7609, 7)\n"
     ]
    },
    {
     "data": {
      "text/html": [
       "<div>\n",
       "<style scoped>\n",
       "    .dataframe tbody tr th:only-of-type {\n",
       "        vertical-align: middle;\n",
       "    }\n",
       "\n",
       "    .dataframe tbody tr th {\n",
       "        vertical-align: top;\n",
       "    }\n",
       "\n",
       "    .dataframe thead th {\n",
       "        text-align: right;\n",
       "    }\n",
       "</style>\n",
       "<table border=\"1\" class=\"dataframe\">\n",
       "  <thead>\n",
       "    <tr style=\"text-align: right;\">\n",
       "      <th></th>\n",
       "      <th>name</th>\n",
       "      <th>country</th>\n",
       "      <th>lastrevid</th>\n",
       "      <th>ores_pred</th>\n",
       "      <th>Geography</th>\n",
       "      <th>Population (millions)</th>\n",
       "      <th>region</th>\n",
       "    </tr>\n",
       "  </thead>\n",
       "  <tbody>\n",
       "    <tr>\n",
       "      <th>0</th>\n",
       "      <td>Shahjahan Noori</td>\n",
       "      <td>Afghanistan</td>\n",
       "      <td>1.099689e+09</td>\n",
       "      <td>GA</td>\n",
       "      <td>Afghanistan</td>\n",
       "      <td>41.1</td>\n",
       "      <td>SOUTH ASIA</td>\n",
       "    </tr>\n",
       "    <tr>\n",
       "      <th>1</th>\n",
       "      <td>Abdul Ghafar Lakanwal</td>\n",
       "      <td>Afghanistan</td>\n",
       "      <td>9.435623e+08</td>\n",
       "      <td>Start</td>\n",
       "      <td>Afghanistan</td>\n",
       "      <td>41.1</td>\n",
       "      <td>SOUTH ASIA</td>\n",
       "    </tr>\n",
       "    <tr>\n",
       "      <th>2</th>\n",
       "      <td>Majah Ha Adrif</td>\n",
       "      <td>Afghanistan</td>\n",
       "      <td>8.524041e+08</td>\n",
       "      <td>Start</td>\n",
       "      <td>Afghanistan</td>\n",
       "      <td>41.1</td>\n",
       "      <td>SOUTH ASIA</td>\n",
       "    </tr>\n",
       "    <tr>\n",
       "      <th>3</th>\n",
       "      <td>Haroon al-Afghani</td>\n",
       "      <td>Afghanistan</td>\n",
       "      <td>1.095102e+09</td>\n",
       "      <td>B</td>\n",
       "      <td>Afghanistan</td>\n",
       "      <td>41.1</td>\n",
       "      <td>SOUTH ASIA</td>\n",
       "    </tr>\n",
       "    <tr>\n",
       "      <th>4</th>\n",
       "      <td>Tayyab Agha</td>\n",
       "      <td>Afghanistan</td>\n",
       "      <td>1.104998e+09</td>\n",
       "      <td>Start</td>\n",
       "      <td>Afghanistan</td>\n",
       "      <td>41.1</td>\n",
       "      <td>SOUTH ASIA</td>\n",
       "    </tr>\n",
       "  </tbody>\n",
       "</table>\n",
       "</div>"
      ],
      "text/plain": [
       "                    name      country     lastrevid ores_pred    Geography  \\\n",
       "0        Shahjahan Noori  Afghanistan  1.099689e+09        GA  Afghanistan   \n",
       "1  Abdul Ghafar Lakanwal  Afghanistan  9.435623e+08     Start  Afghanistan   \n",
       "2         Majah Ha Adrif  Afghanistan  8.524041e+08     Start  Afghanistan   \n",
       "3      Haroon al-Afghani  Afghanistan  1.095102e+09         B  Afghanistan   \n",
       "4            Tayyab Agha  Afghanistan  1.104998e+09     Start  Afghanistan   \n",
       "\n",
       "   Population (millions)      region  \n",
       "0                   41.1  SOUTH ASIA  \n",
       "1                   41.1  SOUTH ASIA  \n",
       "2                   41.1  SOUTH ASIA  \n",
       "3                   41.1  SOUTH ASIA  \n",
       "4                   41.1  SOUTH ASIA  "
      ]
     },
     "execution_count": 111,
     "metadata": {},
     "output_type": "execute_result"
    }
   ],
   "source": [
    "# Consolidated data table with all politicians, article quality scores and population information\n",
    "df_combined = df_combined.merge(df_population, left_on = 'country', right_on = 'Geography', how = 'outer')\n",
    "print(df_combined.shape)\n",
    "df_combined.head()"
   ]
  },
  {
   "cell_type": "markdown",
   "id": "3559dc27",
   "metadata": {},
   "source": [
    "### 3.2 Identifying countries with missing wiki entries"
   ]
  },
  {
   "cell_type": "code",
   "execution_count": 116,
   "id": "525182c2",
   "metadata": {},
   "outputs": [
    {
     "data": {
      "text/plain": [
       "array(['Western Sahara', 'Mauritius', 'Mayotte', 'Reunion',\n",
       "       'Sao Tome and Principe', 'eSwatini', 'Canada', 'United States',\n",
       "       'Curacao', 'Guadeloupe', 'Martinique', 'Puerto Rico',\n",
       "       'French Guiana', 'Brunei', 'Philippines', 'China,  Hong Kong SAR',\n",
       "       'China,  Macao SAR', 'Ireland', 'United Kingdom', 'Australia',\n",
       "       'French Polynesia', 'Guam', 'Kiribati', 'New Caledonia',\n",
       "       'New Zealand'], dtype=object)"
      ]
     },
     "execution_count": 116,
     "metadata": {},
     "output_type": "execute_result"
    }
   ],
   "source": [
    "# List of countries with no wikipedia data\n",
    "missing_wiki_list = df_combined.loc[df_combined['country'].isnull()]['Geography'].unique()\n",
    "missing_wiki_list"
   ]
  },
  {
   "cell_type": "code",
   "execution_count": 117,
   "id": "824e2831",
   "metadata": {},
   "outputs": [
    {
     "data": {
      "text/plain": [
       "array(['Korean'], dtype=object)"
      ]
     },
     "execution_count": 117,
     "metadata": {},
     "output_type": "execute_result"
    }
   ],
   "source": [
    "# List of countries with no population data\n",
    "misisng_population_list = df_combined.loc[df_combined['Geography'].isnull()]['country'].unique()\n",
    "misisng_population_list"
   ]
  },
  {
   "cell_type": "code",
   "execution_count": 120,
   "id": "3ea46627",
   "metadata": {},
   "outputs": [],
   "source": [
    "# combining and saving the list\n",
    "no_match = list(set(np.append(missing_wiki_list, misisng_population_list)))\n",
    "\n",
    "with open('wp_countries-no_match.txt', 'w') as f:\n",
    "    for i in no_match:\n",
    "        f.write(i)\n",
    "        f.write('\\n')"
   ]
  },
  {
   "cell_type": "markdown",
   "id": "86b3ac49",
   "metadata": {},
   "source": [
    "### 3.3 Saving Data for Analysis\n",
    "After identifying the countries with missing values, saving the rest of the rows in a csv file for data analysis"
   ]
  },
  {
   "cell_type": "code",
   "execution_count": 122,
   "id": "1b0ed9fe",
   "metadata": {},
   "outputs": [],
   "source": [
    "df_final = df_combined[(~df_combined['country'].isnull()) & (~df_combined['Geography'].isnull())]\n",
    "df_final = df_final.drop(['Geography'], axis = 1)"
   ]
  },
  {
   "cell_type": "code",
   "execution_count": 123,
   "id": "2f75211d",
   "metadata": {},
   "outputs": [
    {
     "data": {
      "text/plain": [
       "Index(['name', 'country', 'lastrevid', 'ores_pred', 'Population (millions)',\n",
       "       'region'],\n",
       "      dtype='object')"
      ]
     },
     "execution_count": 123,
     "metadata": {},
     "output_type": "execute_result"
    }
   ],
   "source": [
    "df_final.columns"
   ]
  },
  {
   "cell_type": "code",
   "execution_count": 126,
   "id": "8a3b06e7",
   "metadata": {},
   "outputs": [
    {
     "data": {
      "text/html": [
       "<div>\n",
       "<style scoped>\n",
       "    .dataframe tbody tr th:only-of-type {\n",
       "        vertical-align: middle;\n",
       "    }\n",
       "\n",
       "    .dataframe tbody tr th {\n",
       "        vertical-align: top;\n",
       "    }\n",
       "\n",
       "    .dataframe thead th {\n",
       "        text-align: right;\n",
       "    }\n",
       "</style>\n",
       "<table border=\"1\" class=\"dataframe\">\n",
       "  <thead>\n",
       "    <tr style=\"text-align: right;\">\n",
       "      <th></th>\n",
       "      <th>article_title</th>\n",
       "      <th>country</th>\n",
       "      <th>lastrevid</th>\n",
       "      <th>article_quality</th>\n",
       "      <th>population</th>\n",
       "      <th>region</th>\n",
       "    </tr>\n",
       "  </thead>\n",
       "  <tbody>\n",
       "    <tr>\n",
       "      <th>0</th>\n",
       "      <td>Shahjahan Noori</td>\n",
       "      <td>Afghanistan</td>\n",
       "      <td>1.099689e+09</td>\n",
       "      <td>GA</td>\n",
       "      <td>41.1</td>\n",
       "      <td>SOUTH ASIA</td>\n",
       "    </tr>\n",
       "    <tr>\n",
       "      <th>1</th>\n",
       "      <td>Abdul Ghafar Lakanwal</td>\n",
       "      <td>Afghanistan</td>\n",
       "      <td>9.435623e+08</td>\n",
       "      <td>Start</td>\n",
       "      <td>41.1</td>\n",
       "      <td>SOUTH ASIA</td>\n",
       "    </tr>\n",
       "    <tr>\n",
       "      <th>2</th>\n",
       "      <td>Majah Ha Adrif</td>\n",
       "      <td>Afghanistan</td>\n",
       "      <td>8.524041e+08</td>\n",
       "      <td>Start</td>\n",
       "      <td>41.1</td>\n",
       "      <td>SOUTH ASIA</td>\n",
       "    </tr>\n",
       "    <tr>\n",
       "      <th>3</th>\n",
       "      <td>Haroon al-Afghani</td>\n",
       "      <td>Afghanistan</td>\n",
       "      <td>1.095102e+09</td>\n",
       "      <td>B</td>\n",
       "      <td>41.1</td>\n",
       "      <td>SOUTH ASIA</td>\n",
       "    </tr>\n",
       "    <tr>\n",
       "      <th>4</th>\n",
       "      <td>Tayyab Agha</td>\n",
       "      <td>Afghanistan</td>\n",
       "      <td>1.104998e+09</td>\n",
       "      <td>Start</td>\n",
       "      <td>41.1</td>\n",
       "      <td>SOUTH ASIA</td>\n",
       "    </tr>\n",
       "  </tbody>\n",
       "</table>\n",
       "</div>"
      ],
      "text/plain": [
       "           article_title      country     lastrevid article_quality  \\\n",
       "0        Shahjahan Noori  Afghanistan  1.099689e+09              GA   \n",
       "1  Abdul Ghafar Lakanwal  Afghanistan  9.435623e+08           Start   \n",
       "2         Majah Ha Adrif  Afghanistan  8.524041e+08           Start   \n",
       "3      Haroon al-Afghani  Afghanistan  1.095102e+09               B   \n",
       "4            Tayyab Agha  Afghanistan  1.104998e+09           Start   \n",
       "\n",
       "   population      region  \n",
       "0        41.1  SOUTH ASIA  \n",
       "1        41.1  SOUTH ASIA  \n",
       "2        41.1  SOUTH ASIA  \n",
       "3        41.1  SOUTH ASIA  \n",
       "4        41.1  SOUTH ASIA  "
      ]
     },
     "execution_count": 126,
     "metadata": {},
     "output_type": "execute_result"
    }
   ],
   "source": [
    "df_final = df_final.rename(columns = {'country': 'country', \n",
    "                                      'region': 'region',\n",
    "                                      'Population (millions)': 'population', \n",
    "                                      'name': 'article_title', \n",
    "                                      'latestrevid': 'revision_id', \n",
    "                                      'ores_pred': 'article_quality'})\n",
    "\n",
    "df_final.to_csv('wp_politicians_by_country.csv', index = False)\n",
    "df_final.head()"
   ]
  }
 ],
 "metadata": {
  "kernelspec": {
   "display_name": "Python 3",
   "language": "python",
   "name": "python3"
  },
  "language_info": {
   "codemirror_mode": {
    "name": "ipython",
    "version": 3
   },
   "file_extension": ".py",
   "mimetype": "text/x-python",
   "name": "python",
   "nbconvert_exporter": "python",
   "pygments_lexer": "ipython3",
   "version": "3.8.8"
  }
 },
 "nbformat": 4,
 "nbformat_minor": 5
}
